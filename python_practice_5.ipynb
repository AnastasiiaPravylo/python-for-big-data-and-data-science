{
  "nbformat": 4,
  "nbformat_minor": 0,
  "metadata": {
    "colab": {
      "provenance": []
    },
    "kernelspec": {
      "name": "python3",
      "display_name": "Python 3"
    },
    "language_info": {
      "name": "python"
    }
  },
  "cells": [
    {
      "cell_type": "markdown",
      "source": [
        "# I. OOP"
      ],
      "metadata": {
        "id": "5qV_sehzFCTp"
      }
    },
    {
      "cell_type": "markdown",
      "source": [
        "1. (6б). Створіть клас Building, додайте три атрибути, один з яких має значення за замовчуванням та два методи на свій розсуд."
      ],
      "metadata": {
        "id": "tx_U_hOALyfg"
      }
    },
    {
      "cell_type": "code",
      "source": [
        "class Building:\n",
        "    def __init__(self, floors, area, material=\"бетон\"):\n",
        "        self.floors = floors\n",
        "        self.area = area\n",
        "        self.material = material\n",
        "\n",
        "    def info(self):\n",
        "        print(f\"Будівля: {self.floors} поверхів, площа {self.area} м^2, матеріал — {self.material}.\")\n",
        "\n",
        "    def is_high(self):\n",
        "        return self.floors > 5\n",
        "\n",
        "b1 = Building(10, 800)\n",
        "b1.info()\n",
        "print(b1.is_high())"
      ],
      "metadata": {
        "id": "-Vf895KaL88N",
        "colab": {
          "base_uri": "https://localhost:8080/"
        },
        "outputId": "9512a0a7-084d-476b-b88d-7fed45b9a677"
      },
      "execution_count": 12,
      "outputs": [
        {
          "output_type": "stream",
          "name": "stdout",
          "text": [
            "Будівля: 10 поверхів, площа 800 м^2, матеріал — бетон.\n",
            "True\n"
          ]
        }
      ]
    },
    {
      "cell_type": "markdown",
      "source": [
        "2. (2б). Створіть два обʼєкти цього класу, де один з обʼєктів створюється із дефолтним значенням атрибуту. На одному обʼєкті отримайте значення його атрибуту, а на іншому викличте один з його методів."
      ],
      "metadata": {
        "id": "X_UlOMB0L93w"
      }
    },
    {
      "cell_type": "code",
      "source": [
        "class Building:\n",
        "    def __init__(self, floors, area, material=\"бетон\"):\n",
        "        self.floors = floors\n",
        "        self.area = area\n",
        "        self.material = material\n",
        "\n",
        "    def info(self):\n",
        "        print(f\"Будівля: {self.floors} поверхів, площа {self.area} м², матеріал — {self.material}.\")\n",
        "\n",
        "    def is_high(self):\n",
        "        return self.floors > 5\n",
        "\n",
        "b1 = Building(3, 600)\n",
        "b2 = Building(10, 1000, \"цегла\")\n",
        "\n",
        "print(b1.material)\n",
        "\n",
        "b2.info()"
      ],
      "metadata": {
        "id": "7gBu0ESOMCpG",
        "colab": {
          "base_uri": "https://localhost:8080/"
        },
        "outputId": "c3d9de1f-7152-4185-ffff-9c2ffbba5f30"
      },
      "execution_count": 13,
      "outputs": [
        {
          "output_type": "stream",
          "name": "stdout",
          "text": [
            "бетон\n",
            "Будівля: 10 поверхів, площа 1000 м², матеріал — цегла.\n"
          ]
        }
      ]
    },
    {
      "cell_type": "markdown",
      "source": [
        "3. (5б). Створіть клас, де атрибути мають різні рівні доступу. Спробуйте отримати їхні значення та опишіть результати."
      ],
      "metadata": {
        "id": "HoqSCZt1MHn5"
      }
    },
    {
      "cell_type": "code",
      "source": [
        "class Example:\n",
        "    def __init__(self):\n",
        "        self.public_attr = \"public\"\n",
        "        self._protected_attr = \"protected\"\n",
        "        self.__private_attr = \"private\"\n",
        "\n",
        "obj = Example()\n",
        "\n",
        "print(obj.public_attr)\n",
        "\n",
        "print(obj._protected_attr)\n",
        "\n",
        "try:\n",
        "    print(obj.__private_attr)\n",
        "except AttributeError as e:\n",
        "    print(\"Error:\", e)\n",
        "#public_attr: легкодоступний\n",
        "#_protected_attr: умовно захищений\n",
        "#__private_attr: приватний, не можна отримати доступ напряму, тому видає помилку при спробі"
      ],
      "metadata": {
        "id": "r9b3vJxBMSPV",
        "colab": {
          "base_uri": "https://localhost:8080/"
        },
        "outputId": "b67ea618-cf6b-4b21-e209-b37a955dc40e"
      },
      "execution_count": 7,
      "outputs": [
        {
          "output_type": "stream",
          "name": "stdout",
          "text": [
            "public\n",
            "protected\n",
            "Error: 'Example' object has no attribute '__private_attr'\n"
          ]
        }
      ]
    },
    {
      "cell_type": "markdown",
      "source": [
        "4. (7б). Як ви розумієте термін self? Для чого використовується метод __init __?"
      ],
      "metadata": {
        "id": "5op2m2vgMSkZ"
      }
    },
    {
      "cell_type": "markdown",
      "source": [
        "self це посилання на поточний елемент класу, тобто доступ до самого об'єкта, а метод __init__ запускається автоматично коли створюється об'єкт, з метою ініціалізувати атрибут"
      ],
      "metadata": {
        "id": "DyiPqNRvMasx"
      }
    },
    {
      "cell_type": "markdown",
      "source": [
        "5. (9б). Створіть клас 3D-фігура без атрибутів, з методом get_volume для отримання об'єму фігури, що повертає 0 та __add __, який приймає self та other в якості аргументів, а повертає суму об'ємів 3d-фігур self та other."
      ],
      "metadata": {
        "id": "-6X8EGfjMd2y"
      }
    },
    {
      "cell_type": "code",
      "source": [
        "class Shape3D:\n",
        "    def get_volume(self):\n",
        "        return 0\n",
        "\n",
        "    def __add__(self, other):\n",
        "        return self.get_volume() + other.get_volume()"
      ],
      "metadata": {
        "id": "4rvO_wYUMaEr"
      },
      "execution_count": 5,
      "outputs": []
    },
    {
      "cell_type": "markdown",
      "source": [
        "6. (11б). Створіть 2 дочірніх класи від 3d-фігура: Циліндр та Куб, які мають атрибути, необхідні для розрахунку об'єму. Визначте метод get_volume в кожному з них так, щоби вони розраховували об'єм у залежності від формули для кожного типу фігури. Створіть обʼєкт класу Циліндр та обʼєкт класу Куб. Виконайте операцію суми за допомогою оператора + між ними, аби знайти сумарний об'єм."
      ],
      "metadata": {
        "id": "SFcKnnv5Mo_z"
      }
    },
    {
      "cell_type": "code",
      "source": [
        "import math\n",
        "\n",
        "class Shape3D:\n",
        "    def get_volume(self):\n",
        "        return 0\n",
        "\n",
        "    def __add__(self, other):\n",
        "        return self.get_volume() + other.get_volume()\n",
        "\n",
        "class Cylinder(Shape3D):\n",
        "    def __init__(self, radius, height):\n",
        "        self.radius = radius\n",
        "        self.height = height\n",
        "\n",
        "    def get_volume(self):\n",
        "        return math.pi * self.radius ** 2 * self.height\n",
        "\n",
        "class Cube(Shape3D):\n",
        "    def __init__(self, side):\n",
        "        self.side = side\n",
        "\n",
        "    def get_volume(self):\n",
        "        return self.side ** 3\n",
        "\n",
        "cylinder = Cylinder(4, 6)\n",
        "cube = Cube(8)\n",
        "\n",
        "total_volume = cylinder + cube\n",
        "\n",
        "print(total_volume)"
      ],
      "metadata": {
        "id": "H3GVNr69Muf3",
        "colab": {
          "base_uri": "https://localhost:8080/"
        },
        "outputId": "28ea66bf-4ca3-48c5-abfa-2ceb1c420284"
      },
      "execution_count": 14,
      "outputs": [
        {
          "output_type": "stream",
          "name": "stdout",
          "text": [
            "813.5928947446201\n"
          ]
        }
      ]
    },
    {
      "cell_type": "markdown",
      "source": [
        "7. (3б). Продемонструйте різницю між isinstance та issubclass."
      ],
      "metadata": {
        "id": "HCvR206YMvLK"
      }
    },
    {
      "cell_type": "code",
      "source": [
        "class Animal:\n",
        "    pass\n",
        "\n",
        "class Bear(Animal):\n",
        "    pass\n",
        "\n",
        "bear1 = Bear()\n",
        "\n",
        "print(isinstance(bear1, Bear))\n",
        "print(isinstance(bear1, Animal))\n",
        "\n",
        "print(issubclass(Bear, Animal))\n",
        "print(issubclass(Animal, Bear))\n",
        "print(issubclass(Bear, object))\n",
        "#isinstance перевіряє об'єкт, а issubclass перевіряє клас"
      ],
      "metadata": {
        "id": "L_V1bBvDM0GN",
        "colab": {
          "base_uri": "https://localhost:8080/"
        },
        "outputId": "a9b4b1f7-42bf-4d5b-a000-71d1cfa69c50"
      },
      "execution_count": 15,
      "outputs": [
        {
          "output_type": "stream",
          "name": "stdout",
          "text": [
            "True\n",
            "True\n",
            "True\n",
            "False\n",
            "True\n"
          ]
        }
      ]
    },
    {
      "cell_type": "markdown",
      "source": [
        "8. (13б). Створіть клас EWallet з приватними атрибутами balance та id. Реалізуйте методи поповнення та зняття коштів, забезпечивши належну інкапсуляцію. Підказка: використовуйте декоратори property та setter."
      ],
      "metadata": {
        "id": "jjsaBZ-iM0Qq"
      }
    },
    {
      "cell_type": "code",
      "source": [
        "class EWallet:\n",
        "    def __init__(self, id, balance=0):\n",
        "        self.__id = id\n",
        "        self.__balance = balance\n",
        "\n",
        "    @property\n",
        "    def balance(self):\n",
        "        return self.__balance\n",
        "\n",
        "    @balance.setter\n",
        "    def balance(self, value):\n",
        "        if value < 0:\n",
        "            print(\"Error\")\n",
        "        else:\n",
        "            self.__balance = value\n",
        "\n",
        "    def deposit(self, amount):\n",
        "        if amount > 0:\n",
        "            self.__balance += amount\n",
        "            print(f\"Поповнено {amount} одиниць на баланс\")\n",
        "        else:\n",
        "            print(\"Сума поповнення має бути додатною\")\n",
        "\n",
        "    def withdraw(self, amount):\n",
        "        if amount > 0 and self.__balance >= amount:\n",
        "            self.__balance -= amount\n",
        "            print(f\"Знято {amount} одиниць з балансу\")\n",
        "        else:\n",
        "            print(\"Недостатньо коштів\")\n",
        "\n",
        "wallet = EWallet(id=\"193287\", balance=1500)\n",
        "print(wallet.balance)\n",
        "\n",
        "wallet.deposit(500)\n",
        "wallet.withdraw(300)\n",
        "\n",
        "print(wallet.balance)"
      ],
      "metadata": {
        "id": "xCvZ7lh8M7YA",
        "colab": {
          "base_uri": "https://localhost:8080/"
        },
        "outputId": "794ff3bd-5a36-418b-f0ec-1fe7e3f0a450"
      },
      "execution_count": 17,
      "outputs": [
        {
          "output_type": "stream",
          "name": "stdout",
          "text": [
            "1500\n",
            "Поповнено 500 одиниць на баланс\n",
            "Знято 300 одиниць з балансу\n",
            "1700\n"
          ]
        }
      ]
    },
    {
      "cell_type": "markdown",
      "source": [
        "9. (11б). Створіть клас ShoppingCart, який містить список об'єктів типу Item. Реалізуйте методи для додавання айтемів, їх видалення та відображення списку айтемів."
      ],
      "metadata": {
        "id": "tIzL2SJTM8ft"
      }
    },
    {
      "cell_type": "code",
      "source": [
        "class Item:\n",
        "    def __init__(self, name, price):\n",
        "        self.name = name\n",
        "        self.price = price\n",
        "\n",
        "    def __repr__(self):\n",
        "        return f\"Item(name='{self.name}', price={self.price})\"\n",
        "\n",
        "class ShoppingCart:\n",
        "    def __init__(self):\n",
        "        self.items = []\n",
        "\n",
        "    def add_item(self, item):\n",
        "        self.items.append(item)\n",
        "        print(f\"{item.name} added to the cart\")\n",
        "\n",
        "    def remove_item(self, item_name):\n",
        "        for item in self.items:\n",
        "            if item.name == item_name:\n",
        "                self.items.remove(item)\n",
        "                print(f\"{item_name} deleted from the cart\")\n",
        "                return\n",
        "        print(f\"Item {item_name} not found in the cart\")\n",
        "\n",
        "    def display_items(self):\n",
        "        if self.items:\n",
        "            print(\"Items in the cart:\")\n",
        "            for item in self.items:\n",
        "                print(f\"- {item.name}, Price: {item.price}\")\n",
        "        else:\n",
        "            print(\"Cart is empty\")\n",
        "\n",
        "item1 = Item(\"Laptop\", 40000)\n",
        "item2 = Item(\"Phone\", 25000)\n",
        "item3 = Item(\"Headphones\", 2500)\n",
        "\n",
        "cart = ShoppingCart()\n",
        "\n",
        "cart.add_item(item1)\n",
        "cart.add_item(item2)\n",
        "\n",
        "cart.display_items()\n",
        "\n",
        "cart.remove_item(\"Phone\")\n",
        "\n",
        "cart.display_items()"
      ],
      "metadata": {
        "id": "HWxfJKLtNAUZ",
        "colab": {
          "base_uri": "https://localhost:8080/"
        },
        "outputId": "699da1ff-b3ba-4951-8422-d84eacb336e8"
      },
      "execution_count": 18,
      "outputs": [
        {
          "output_type": "stream",
          "name": "stdout",
          "text": [
            "Laptop added to the cart\n",
            "Phone added to the cart\n",
            "Items in the cart:\n",
            "- Laptop, Price: 40000\n",
            "- Phone, Price: 25000\n",
            "Phone deleted from the cart\n",
            "Items in the cart:\n",
            "- Laptop, Price: 40000\n"
          ]
        }
      ]
    },
    {
      "cell_type": "markdown",
      "source": [
        "10. (13б). Створіть клас Vehicle з атрибутами brand (manufacturer) та production_age. Створіть ще один клас Engine з такими атрибутами, як type (ex. petrol) та size (volume, litres). Створіть клас Car, який успадковує обидва класи Vehicle та Engine. Продемонструйте використання множинної спадковості, створивши обʼєкт класу Car та отримавши mro для цього класу."
      ],
      "metadata": {
        "id": "lmV8pAwwNIqu"
      }
    },
    {
      "cell_type": "code",
      "source": [
        "class Vehicle:\n",
        "    def __init__(self, brand, production_age):\n",
        "        self.brand = brand\n",
        "        self.production_age = production_age\n",
        "\n",
        "    def __repr__(self):\n",
        "        return f\"Vehicle(brand='{self.brand}', production_age={self.production_age})\"\n",
        "\n",
        "class Engine:\n",
        "    def __init__(self, type, size):\n",
        "        self.type = type\n",
        "        self.size = size\n",
        "\n",
        "    def __repr__(self):\n",
        "        return f\"Engine(type='{self.type}', size={self.size})\"\n",
        "\n",
        "class Car(Vehicle, Engine):\n",
        "    def __init__(self, brand, production_age, type, size):\n",
        "        Vehicle.__init__(self, brand, production_age)\n",
        "        Engine.__init__(self, type, size)\n",
        "\n",
        "    def __repr__(self):\n",
        "        return f\"Car(brand='{self.brand}', production_age={self.production_age}, engine_type='{self.type}', engine_size={self.size})\"\n",
        "\n",
        "car = Car(brand=\"Kia\", production_age=5, type=\"Petrol\", size=2.0)\n",
        "\n",
        "print(car)\n",
        "\n",
        "print(Car.mro())"
      ],
      "metadata": {
        "id": "R49grKlWNPeN",
        "colab": {
          "base_uri": "https://localhost:8080/"
        },
        "outputId": "d20007fd-8623-4ddd-e148-d5602c84afb9"
      },
      "execution_count": 14,
      "outputs": [
        {
          "output_type": "stream",
          "name": "stdout",
          "text": [
            "Car(brand='Kia', production_age=5, engine_type='Petrol', engine_size=2.0)\n",
            "[<class '__main__.Car'>, <class '__main__.Vehicle'>, <class '__main__.Engine'>, <class 'object'>]\n"
          ]
        }
      ]
    },
    {
      "cell_type": "markdown",
      "source": [
        "# II. Iterator"
      ],
      "metadata": {
        "id": "dIJyUiNBFG8G"
      }
    },
    {
      "cell_type": "markdown",
      "source": [
        "11. (4б). Визначте рядок(str) з 4ма різними за значенням символами. Створіть ітератор на основі цього рядка. Викличте 5 разів функцію next на ітераторі, 4ри перших з них огорніть у ф-цію print()."
      ],
      "metadata": {
        "id": "13vsm0NyKIzL"
      }
    },
    {
      "cell_type": "code",
      "source": [
        "my_string = \"abcd\"\n",
        "\n",
        "my_iterator = iter(my_string)\n",
        "\n",
        "print(next(my_iterator))\n",
        "print(next(my_iterator))\n",
        "print(next(my_iterator))\n",
        "print(next(my_iterator))\n",
        "\n",
        "try:\n",
        "    print(next(my_iterator))\n",
        "except StopIteration:\n",
        "    print(\"end\")"
      ],
      "metadata": {
        "id": "81ntabAkKuz-",
        "colab": {
          "base_uri": "https://localhost:8080/"
        },
        "outputId": "44188570-551e-4eb6-aba2-195ff5beff09"
      },
      "execution_count": 25,
      "outputs": [
        {
          "output_type": "stream",
          "name": "stdout",
          "text": [
            "a\n",
            "b\n",
            "c\n",
            "d\n",
            "end\n"
          ]
        }
      ]
    },
    {
      "cell_type": "markdown",
      "source": [
        "А що якщо викликати цю ж функцію на рядку?"
      ],
      "metadata": {
        "id": "aekWHGXOLRsO"
      }
    },
    {
      "cell_type": "code",
      "source": [
        "next(\"abcd\")\n",
        "#якщо викликати на рядку, то буде помилка, тому потрібно викликати ітератор"
      ],
      "metadata": {
        "id": "mxATGsErLV1i"
      },
      "execution_count": 23,
      "outputs": []
    },
    {
      "cell_type": "markdown",
      "source": [
        " 12. (5б). Опишіть своїми словами в одному реченні, як ви розумієте різницю між ітерабельними обʼєктами та ітераторами (можна на прикладі)."
      ],
      "metadata": {
        "id": "XwtMEopwJ4pH"
      }
    },
    {
      "cell_type": "markdown",
      "source": [
        "ітерабельні об'єкти, це об'єкти які ми можемо пройти за допомогою циклів та ітераторів, а ітератор це ою'єкти які зберігають стан і дають можливість отримати елементи з ітерабельного об'єкта"
      ],
      "metadata": {
        "id": "-sHrODc3KFn8"
      }
    },
    {
      "cell_type": "markdown",
      "source": [
        "13. (11б). Створіть клас, що має визначений Iterator Protocol та при кожному виклику next повертає назву дня тижня, поки вони не вичерпаються. Зверніть увагу, що порядок має значення."
      ],
      "metadata": {
        "id": "E9qJWmNbK8Gl"
      }
    },
    {
      "cell_type": "code",
      "source": [
        "class DaysIterator:\n",
        "    def __init__(self):\n",
        "        self.days_of_week = [\"monday\", \"tuesday\", \"wednesday\", \"thursday\", \"friday\", \"saturday\", \"sunday\"]\n",
        "        self.index = 0\n",
        "\n",
        "    def __iter__(self):\n",
        "        return self\n",
        "\n",
        "    def __next__(self):\n",
        "        if self.index < len(self.days_of_week):\n",
        "            day = self.days_of_week[self.index]\n",
        "            self.index += 1\n",
        "            return day\n",
        "        else:\n",
        "            raise StopIteration\n",
        "\n",
        "days = DaysIterator()\n",
        "\n",
        "for day in days:\n",
        "    print(day)"
      ],
      "metadata": {
        "id": "cqx-g_RsLo6I",
        "colab": {
          "base_uri": "https://localhost:8080/"
        },
        "outputId": "e4bac712-9102-4534-a1a5-92c24485bd2d"
      },
      "execution_count": 11,
      "outputs": [
        {
          "output_type": "stream",
          "name": "stdout",
          "text": [
            "monday\n",
            "tuesday\n",
            "wednesday\n",
            "thursday\n",
            "friday\n",
            "saturday\n",
            "sunday\n"
          ]
        }
      ]
    },
    {
      "cell_type": "markdown",
      "source": [
        "# Вітаю! Ви велика(ий) молодець, що впоралась(вся). Похваліть себе та побалуйте чимось приємним. Я Вами пишаюся."
      ],
      "metadata": {
        "id": "Z3E3S_s1Fv7-"
      }
    }
  ]
}